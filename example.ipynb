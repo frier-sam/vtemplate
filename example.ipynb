{
 "cells": [
  {
   "cell_type": "code",
   "execution_count": 1,
   "metadata": {},
   "outputs": [],
   "source": [
    "import vtemplate as vt"
   ]
  },
  {
   "cell_type": "code",
   "execution_count": 2,
   "metadata": {},
   "outputs": [
    {
     "name": "stdout",
     "output_type": "stream",
     "text": [
      "created master directory\n",
      "choose a choice from 1-4\n",
      "\n",
      "\n",
      " 1.Raw code\n",
      " 2.Flask bisected(api format)\n",
      " 3.Flask integrated\n",
      " 4.python library\n",
      "\n",
      "Enter the number of the choice, example: enter 1 for raw code structure\n",
      "Enter Number of choice selected  - 1\n",
      "created code directory\n",
      "created PPT directory\n",
      "created Demo directory\n",
      "enter your name :name\n",
      "enter your Email id :email\n",
      "enter your phone no.:9999999999\n",
      "enter your city :city\n",
      "enter your country :india\n",
      "created README.md\n",
      "created requirements.txt\n",
      "created LICENCE\n",
      "created testproject with Raw code structure\n"
     ]
    },
    {
     "data": {
      "text/plain": [
       "<vtemplate.create at 0x1fc3e2eb400>"
      ]
     },
     "execution_count": 2,
     "metadata": {},
     "output_type": "execute_result"
    }
   ],
   "source": [
    "vt.create('testproject')"
   ]
  },
  {
   "cell_type": "code",
   "execution_count": null,
   "metadata": {},
   "outputs": [
    {
     "name": "stdout",
     "output_type": "stream",
     "text": [
      "created master directory\n",
      "choose a choice from 1-4\n",
      "\n",
      "\n",
      " 1.Raw code\n",
      " 2.Flask bisected(api format)\n",
      " 3.Flask integrated\n",
      " 4.python library\n",
      "\n",
      "Enter the number of the choice, example: enter 1 for raw code structure\n"
     ]
    }
   ],
   "source": [
    "vt.create('testproject1')"
   ]
  },
  {
   "cell_type": "code",
   "execution_count": null,
   "metadata": {},
   "outputs": [],
   "source": []
  }
 ],
 "metadata": {
  "kernelspec": {
   "display_name": "Python 3",
   "language": "python",
   "name": "python3"
  },
  "language_info": {
   "codemirror_mode": {
    "name": "ipython",
    "version": 3
   },
   "file_extension": ".py",
   "mimetype": "text/x-python",
   "name": "python",
   "nbconvert_exporter": "python",
   "pygments_lexer": "ipython3",
   "version": "3.6.5"
  }
 },
 "nbformat": 4,
 "nbformat_minor": 2
}
