{
 "cells": [
  {
   "cell_type": "code",
   "execution_count": 1,
   "metadata": {},
   "outputs": [],
   "source": [
    "def test():\n",
    "    name = input('enter you name ')\n",
    "    print(name)\n",
    "    return"
   ]
  },
  {
   "cell_type": "code",
   "execution_count": 2,
   "metadata": {},
   "outputs": [
    {
     "name": "stdout",
     "output_type": "stream",
     "text": [
      "enter you namesam\n",
      "sam\n"
     ]
    }
   ],
   "source": [
    "test()"
   ]
  },
  {
   "cell_type": "code",
   "execution_count": 1,
   "metadata": {},
   "outputs": [],
   "source": [
    "from testinit import create"
   ]
  },
  {
   "cell_type": "code",
   "execution_count": 2,
   "metadata": {},
   "outputs": [
    {
     "name": "stdout",
     "output_type": "stream",
     "text": [
      "folder already exists\n",
      "do you want to overwrite?[y&n] - y\n",
      "choose a choice from 1-4\n",
      "\n",
      "\n",
      " 1.Raw code\n",
      " 2.Flask bisected(api format)\n",
      " 3.Flask integrated\n",
      " 4.python library\n",
      "\n",
      "Enter the number of the choice, example: enter 1 for raw code structure\n",
      "Enter Number of choice selected  - 1\n",
      "folder code already exists\n",
      "do you want to overwrite?[y&n] - y\n",
      "folder PPT already exists\n",
      "do you want to overwrite?[y&n] - y\n",
      "created Demo directory\n",
      "enter your name :sam\n",
      "enter your Email id :umasaiu@virtusa.com\n",
      "enter your phone no.:\n",
      "enter your city :bangalore\n",
      "enter your country :india\n",
      "created README.md\n",
      "created requirements.txt\n",
      "created LICENCE\n",
      "created chatbot with Raw code structure\n"
     ]
    },
    {
     "data": {
      "text/plain": [
       "<testinit.create at 0x1dc8c6bc080>"
      ]
     },
     "execution_count": 2,
     "metadata": {},
     "output_type": "execute_result"
    }
   ],
   "source": [
    "create('chatbot')"
   ]
  },
  {
   "cell_type": "code",
   "execution_count": null,
   "metadata": {},
   "outputs": [],
   "source": []
  }
 ],
 "metadata": {
  "kernelspec": {
   "display_name": "Python 3",
   "language": "python",
   "name": "python3"
  },
  "language_info": {
   "codemirror_mode": {
    "name": "ipython",
    "version": 3
   },
   "file_extension": ".py",
   "mimetype": "text/x-python",
   "name": "python",
   "nbconvert_exporter": "python",
   "pygments_lexer": "ipython3",
   "version": "3.6.5"
  }
 },
 "nbformat": 4,
 "nbformat_minor": 2
}
